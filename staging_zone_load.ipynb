{
 "cells": [
  {
   "cell_type": "code",
   "execution_count": 0,
   "metadata": {
    "application/vnd.databricks.v1+cell": {
     "cellMetadata": {
      "byteLimit": 2048000,
      "rowLimit": 10000
     },
     "inputWidgets": {},
     "nuid": "4d05f8e7-c868-4d3a-8bb6-f231c743a207",
     "showTitle": false,
     "title": ""
    }
   },
   "outputs": [
    {
     "output_type": "stream",
     "name": "stdout",
     "output_type": "stream",
     "text": [
      "Moved dbfs:/FileStore/staging_zone/order_tracking_2023_01_01.csv to dbfs:/FileStore/archive/order_tracking_2023_01_01.csv\n"
     ]
    }
   ],
   "source": [
    "# Set path to variables\n",
    "source_dir = \"dbfs:/FileStore/staging_zone/\"\n",
    "target_dir = \"dbfs:/FileStore/archive/\"\n",
    "delta_table = \"event_driven_workflow.default.stage_zone_new\"\n",
    "\n",
    "# Read the file from dbfs path into a Spark data frame\n",
    "df = spark.read.csv(source_dir, header=True, inferSchema=True)\n",
    "\n",
    "# Create delta table and overwrite the data\n",
    "df.write.format(\"delta\").mode(\"overwrite\").saveAsTable(delta_table)\n",
    "\n",
    "files = dbutils.fs.ls(source_dir)\n",
    "\n",
    "# Move each files to target directory\n",
    "for file in files:\n",
    "    source_path = file.path\n",
    "    target_path = target_dir + file.name\n",
    "    dbutils.fs.mv(source_path, target_path)\n",
    "    print(f\"Moved {source_path} to {target_path}\")"
   ]
  }
 ],
 "metadata": {
  "application/vnd.databricks.v1+notebook": {
   "dashboards": [],
   "environmentMetadata": null,
   "language": "python",
   "notebookMetadata": {
    "pythonIndentUnit": 4
   },
   "notebookName": "staging_zone_load",
   "widgets": {}
  }
 },
 "nbformat": 4,
 "nbformat_minor": 0
}
