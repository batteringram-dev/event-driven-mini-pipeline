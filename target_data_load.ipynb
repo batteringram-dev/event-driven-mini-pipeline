{
 "cells": [
  {
   "cell_type": "code",
   "execution_count": 0,
   "metadata": {
    "application/vnd.databricks.v1+cell": {
     "cellMetadata": {
      "byteLimit": 2048000,
      "rowLimit": 10000
     },
     "inputWidgets": {},
     "nuid": "6b4a8a00-58f1-4655-bd25-fea86ba998e6",
     "showTitle": false,
     "title": ""
    }
   },
   "outputs": [],
   "source": [
    "from delta.tables import *\n",
    "\n",
    "stage_delta_table = \"event_driven_workflow.default.stage_zone_new\"\n",
    "target_delta_table = \"event_driven_workflow.default.target_zone_new\"\n",
    "\n",
    "# Read data from stage delta table\n",
    "stage_df = spark.read.table(stage_delta_table)\n",
    "\n",
    "# Create target delta table if it doesn't exist\n",
    "if not spark._jsparkSession.catalog().tableExists(target_delta_table):\n",
    "    stage_df.write.format(\"delta\").saveAsTable(target_delta_table)\n",
    "else:\n",
    "    # Create target delta object\n",
    "    target_table = DeltaTable.forName(spark, target_delta_table)\n",
    "    \n",
    "    # Merge tables based on tracking_num column\n",
    "    merge_condition = \"stage.tracking_num = target.tracking_num\"\n",
    "    \n",
    "    # Execute the merge operation\n",
    "    target_table.alias(\"target\") \\\n",
    "        .merge(stage_df.alias(\"stage\"), merge_condition) \\\n",
    "        .whenMatchedDelete() \\\n",
    "        .execute()\n",
    "\n",
    "    stage_df.write.format(\"delta\").mode(\"append\").saveAsTable(target_delta_table)\n",
    "\n"
   ]
  }
 ],
 "metadata": {
  "application/vnd.databricks.v1+notebook": {
   "dashboards": [],
   "environmentMetadata": null,
   "language": "python",
   "notebookMetadata": {
    "pythonIndentUnit": 4
   },
   "notebookName": "target_data_load",
   "widgets": {}
  }
 },
 "nbformat": 4,
 "nbformat_minor": 0
}
